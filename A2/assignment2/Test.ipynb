{
 "cells": [
  {
   "cell_type": "code",
   "execution_count": null,
   "metadata": {},
   "outputs": [],
   "source": [
    "from q1_softmax import *\n"
   ]
  },
  {
   "cell_type": "code",
   "execution_count": null,
   "metadata": {},
   "outputs": [],
   "source": [
    "tensor = tf.ones([10, 5])\n",
    "\n",
    "with tf.Session() as sess:\n",
    "    print(tensor.eval())"
   ]
  },
  {
   "cell_type": "code",
   "execution_count": null,
   "metadata": {},
   "outputs": [],
   "source": [
    "test_softmax_basic()"
   ]
  },
  {
   "cell_type": "code",
   "execution_count": null,
   "metadata": {},
   "outputs": [],
   "source": [
    "test_cross_entropy_loss_basic()"
   ]
  },
  {
   "cell_type": "code",
   "execution_count": null,
   "metadata": {},
   "outputs": [],
   "source": [
    "from q1_classifier import *"
   ]
  },
  {
   "cell_type": "code",
   "execution_count": null,
   "metadata": {},
   "outputs": [],
   "source": [
    "test_softmax_model()"
   ]
  },
  {
   "cell_type": "code",
   "execution_count": null,
   "metadata": {},
   "outputs": [],
   "source": [
    "from q2_parser_transitions import *"
   ]
  },
  {
   "cell_type": "code",
   "execution_count": null,
   "metadata": {},
   "outputs": [],
   "source": [
    "test_parse_step()"
   ]
  },
  {
   "cell_type": "code",
   "execution_count": null,
   "metadata": {},
   "outputs": [],
   "source": [
    "test_parse()"
   ]
  },
  {
   "cell_type": "code",
   "execution_count": null,
   "metadata": {},
   "outputs": [],
   "source": [
    "test_minibatch_parse()"
   ]
  },
  {
   "cell_type": "code",
   "execution_count": null,
   "metadata": {},
   "outputs": [],
   "source": [
    "from q2_initialization import *"
   ]
  },
  {
   "cell_type": "code",
   "execution_count": null,
   "metadata": {},
   "outputs": [],
   "source": [
    "test_initialization_basic()"
   ]
  },
  {
   "cell_type": "code",
   "execution_count": 1,
   "metadata": {},
   "outputs": [],
   "source": [
    "from q2_parser_model import *"
   ]
  },
  {
   "cell_type": "code",
   "execution_count": 2,
   "metadata": {},
   "outputs": [
    {
     "name": "stdout",
     "output_type": "stream",
     "text": [
      "================================================================================\n",
      "INITIALIZING\n",
      "================================================================================\n",
      "Loading data... took 3.76 seconds\n",
      "Building parser... took 0.06 seconds\n",
      "Loading pretrained embeddings... took 3.26 seconds\n",
      "Vectorizing data... took 0.09 seconds\n",
      "Preprocessing training data...\n",
      "1000/1000 [==============================] - 4s     \n",
      "Building model...WARNING:tensorflow:From q2_parser_model.py:171: softmax_cross_entropy_with_logits (from tensorflow.python.ops.nn_ops) is deprecated and will be removed in a future version.\n",
      "Instructions for updating:\n",
      "\n",
      "Future major versions of TensorFlow will allow gradients to flow\n",
      "into the labels input on backprop by default.\n",
      "\n",
      "See `tf.nn.softmax_cross_entropy_with_logits_v2`.\n",
      "\n",
      " took 0.71 seconds\n",
      "\n",
      "================================================================================\n",
      "TRAINING\n",
      "================================================================================\n",
      "Epoch 1 out of 10\n",
      "24/24 [==============================] - 1s - train loss: 0.8912     \n",
      "Evaluating on dev set - dev UAS: 35.81\n",
      "\n",
      "Epoch 2 out of 10\n",
      "24/24 [==============================] - 1s - train loss: 0.5681     \n",
      "Evaluating on dev set - dev UAS: 51.12\n",
      "\n",
      "Epoch 3 out of 10\n",
      "24/24 [==============================] - 1s - train loss: 0.3572     \n",
      "Evaluating on dev set - dev UAS: 58.03\n",
      "\n",
      "Epoch 4 out of 10\n",
      "24/24 [==============================] - 1s - train loss: 0.2777     \n",
      "Evaluating on dev set - dev UAS: 62.50\n",
      "\n",
      "Epoch 5 out of 10\n",
      "24/24 [==============================] - 1s - train loss: 0.2441     \n",
      "Evaluating on dev set - dev UAS: 65.04\n",
      "\n",
      "Epoch 6 out of 10\n",
      "24/24 [==============================] - 1s - train loss: 0.2197     \n",
      "Evaluating on dev set - dev UAS: 66.95\n",
      "\n",
      "Epoch 7 out of 10\n",
      "24/24 [==============================] - 1s - train loss: 0.2013     \n",
      "Evaluating on dev set - dev UAS: 67.92\n",
      "\n",
      "Epoch 8 out of 10\n",
      "24/24 [==============================] - 1s - train loss: 0.1857     \n",
      "Evaluating on dev set - dev UAS: 68.29\n",
      "\n",
      "Epoch 9 out of 10\n",
      "24/24 [==============================] - 1s - train loss: 0.1728     \n",
      "Evaluating on dev set - dev UAS: 69.79\n",
      "\n",
      "Epoch 10 out of 10\n",
      "24/24 [==============================] - 1s - train loss: 0.1597     \n",
      "Evaluating on dev set - dev UAS: 70.48\n",
      "\n"
     ]
    }
   ],
   "source": [
    "main()"
   ]
  },
  {
   "cell_type": "code",
   "execution_count": null,
   "metadata": {},
   "outputs": [],
   "source": []
  }
 ],
 "metadata": {
  "kernelspec": {
   "display_name": "Python 2",
   "language": "python",
   "name": "python2"
  },
  "language_info": {
   "codemirror_mode": {
    "name": "ipython",
    "version": 2
   },
   "file_extension": ".py",
   "mimetype": "text/x-python",
   "name": "python",
   "nbconvert_exporter": "python",
   "pygments_lexer": "ipython2",
   "version": "2.7.15"
  }
 },
 "nbformat": 4,
 "nbformat_minor": 2
}
